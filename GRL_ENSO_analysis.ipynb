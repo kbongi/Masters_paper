{
 "cells": [
  {
   "cell_type": "markdown",
   "metadata": {},
   "source": [
    "# ENSO analysis using 20CRv3 and CMIP6 data\n",
    "This notebook calculates and plots the NINO3.4 index using monthly sea surface temperature anomalies using CMIP6 historical model output (43 models) and 20CRv3 reanalysis data (79 members).  "
   ]
  },
  {
   "cell_type": "markdown",
   "metadata": {},
   "source": [
    "Notebook last updated on 2 June 2023 by Kate Bongiovanni."
   ]
  },
  {
   "cell_type": "code",
   "execution_count": 1,
   "metadata": {},
   "outputs": [],
   "source": [
    "# import relevant libraries\n",
    "import xarray as xr, matplotlib.pyplot as plt\n",
    "from importlib import reload # need to use this if I edit a function file\n",
    "import os\n",
    "import numpy as np\n",
    "import pandas as pd\n",
    "import cartopy.crs as ccrs # to add in continents and change map projections \n",
    "from matplotlib.colors import LinearSegmentedColormap \n",
    "import dask.diagnostics # to check how long something is taking to load"
   ]
  },
  {
   "cell_type": "code",
   "execution_count": 2,
   "metadata": {},
   "outputs": [],
   "source": [
    "# define path for files\n",
    "path = '/g/data/w40/W48_GDATA_MOVED/kb6999'\n",
    "# add path to save figures\n",
    "fig_path = '/g/data/w40/W48_GDATA_MOVED/kb6999/Masters_paper/FIGURES'"
   ]
  },
  {
   "cell_type": "code",
   "execution_count": 3,
   "metadata": {},
   "outputs": [],
   "source": [
    "import sys \n",
    "sys.path.append(f'{path}/Masters_paper') \n",
    "# import custom functions\n",
    "import GRL_functions as func"
   ]
  },
  {
   "cell_type": "code",
   "execution_count": 4,
   "metadata": {
    "scrolled": false
   },
   "outputs": [
    {
     "name": "stdout",
     "output_type": "stream",
     "text": [
      "/g/data/lp01/CMIP6/CMIP/ /historical/r1i1p1f1/Amon/tas/gr1.5/ /historical/r1i1p1f1/Amon/pr/gr1.5/ /historical/r1i1p1f1/Amon/ts/gr1.5/\n"
     ]
    }
   ],
   "source": [
    "# store each section of the CMIP6 model directory\n",
    "institution_dir = '/g/data/lp01/CMIP6/CMIP/'\n",
    "tas_dir = '/historical/r1i1p1f1/Amon/tas/gr1.5/'\n",
    "pr_dir = '/historical/r1i1p1f1/Amon/pr/gr1.5/'\n",
    "ts_dir = '/historical/r1i1p1f1/Amon/ts/gr1.5/'\n",
    "print(institution_dir, tas_dir, pr_dir, ts_dir)"
   ]
  },
  {
   "cell_type": "markdown",
   "metadata": {},
   "source": [
    "## Read in model data"
   ]
  },
  {
   "cell_type": "code",
   "execution_count": null,
   "metadata": {},
   "outputs": [
    {
     "name": "stdout",
     "output_type": "stream",
     "text": [
      "54 model paths found and loaded into the dictionary \"models\"\n"
     ]
    }
   ],
   "source": [
    "# use read_models() function to read in monthly model data from 1850-2015\n",
    "models_ts = func.read_models(institution_dir, ts_dir, '1850-01','2015-01')"
   ]
  },
  {
   "cell_type": "markdown",
   "metadata": {},
   "source": [
    "model 'AWI-CM-1-1-MR' is no longer available"
   ]
  },
  {
   "cell_type": "code",
   "execution_count": null,
   "metadata": {
    "scrolled": true
   },
   "outputs": [],
   "source": [
    "# select out the 43 models that were available at the time minus one model which is no longer available\n",
    "models = models_ts.sel(model= ['ACCESS-CM2','ACCESS-ESM1-5','AWI-ESM-1-1-LR','BCC-CSM2-MR','BCC-ESM1',\n",
    "                             'CAMS-CSM1-0', 'CAS-ESM2-0', 'CESM2', 'CESM2-FV2', 'CESM2-WACCM', 'CESM2-WACCM-FV2', \n",
    "                             'CMCC-CM2-HR4', 'CMCC-CM2-SR5' ,'CanESM5', 'E3SM-1-1' ,'E3SM-1-1-ECA' ,'EC-Earth3', \n",
    "                             'EC-Earth3-AerChem' , 'EC-Earth3-Veg-LR', 'FGOALS-f3-L' ,'FGOALS-g3', 'FIO-ESM-2-0', \n",
    "                             'GFDL-CM4' ,'GFDL-ESM4', 'GISS-E2-1-G' ,'GISS-E2-1-G-CC', 'GISS-E2-1-H' ,'IITM-ESM', \n",
    "                             'INM-CM4-8', 'INM-CM5-0' ,'IPSL-CM6A-LR', 'KACE-1-0-G', 'MIROC6' ,'MPI-ESM-1-2-HAM',\n",
    "                             'MPI-ESM1-2-LR' ,'MRI-ESM2-0', 'NESM3', 'NorCPM1' ,'NorESM2-LM', 'NorESM2-MM',\n",
    "                             'SAM0-UNICON', 'TaiESM1'])\n",
    "# sort models alphabetically and prints final model list\n",
    "models = models.sortby('model')\n",
    "print('The following', len(models.model.data), 'models will be used in all subsequent calculations: \\n')\n",
    "print(models.model.data)"
   ]
  },
  {
   "cell_type": "code",
   "execution_count": null,
   "metadata": {},
   "outputs": [],
   "source": [
    "# area weighting \n",
    "models_w = models*np.cos(models_ts.lat*(np.pi/180))"
   ]
  },
  {
   "cell_type": "code",
   "execution_count": null,
   "metadata": {},
   "outputs": [],
   "source": [
    "# calculate the multi-model mean\n",
    "mmm = models_w.mean(dim='model')"
   ]
  },
  {
   "cell_type": "markdown",
   "metadata": {},
   "source": [
    "## Read in 20CR data"
   ]
  },
  {
   "cell_type": "code",
   "execution_count": null,
   "metadata": {},
   "outputs": [],
   "source": [
    "# create a list of member names excluding member 70 cos that file is problematic \n",
    "members = [*range(1,70),*range(71,81)]"
   ]
  },
  {
   "cell_type": "code",
   "execution_count": null,
   "metadata": {},
   "outputs": [],
   "source": [
    "# read in raw 20CR temperature data\n",
    "tmp_paths = [f\"{path}/Reanalysis/20CR_TMP_raw_members/R_raw_Glob_TMP{m:02d}.nc\" for m in members]\n",
    "ds_tmp = xr.open_mfdataset(tmp_paths, combine='nested', concat_dim='member', chunks={'time': 100})\n",
    "ds_tmp.coords['member'] = members"
   ]
  },
  {
   "cell_type": "code",
   "execution_count": null,
   "metadata": {},
   "outputs": [],
   "source": [
    "# rename the temperature variable\n",
    "reanal_r = xr.Dataset({'tmp': ds_tmp.TMP})\n",
    "# convert into degrees Celsius\n",
    "reanal_r['tmp'] = reanal_r.tmp-273"
   ]
  },
  {
   "cell_type": "code",
   "execution_count": null,
   "metadata": {},
   "outputs": [],
   "source": [
    "# reverse the latitude axis so it goes from -90 to 90\n",
    "reanal = reanal_r.reindex(lat=list(reversed(reanal_r.lat)))"
   ]
  },
  {
   "cell_type": "code",
   "execution_count": null,
   "metadata": {},
   "outputs": [],
   "source": [
    "# area weighting \n",
    "reanal_w = reanal*np.cos(reanal.lat*(np.pi/180))"
   ]
  },
  {
   "cell_type": "code",
   "execution_count": null,
   "metadata": {},
   "outputs": [],
   "source": [
    "# select out the years around the Krakatau eruption plus climatology\n",
    "reanal_w = reanal_w.sel(time=slice('1850-01', '1899-01'))"
   ]
  },
  {
   "cell_type": "code",
   "execution_count": null,
   "metadata": {},
   "outputs": [],
   "source": [
    "# use functions to calculate the seasonal anomalies for the globe\n",
    "R_monthly_anom_glob = func.monthly_anomaly(reanal_w, '1850-01', '1879-12')"
   ]
  },
  {
   "cell_type": "code",
   "execution_count": null,
   "metadata": {},
   "outputs": [],
   "source": [
    "# take the multi-member mean\n",
    "R_em_mon_Glob = R_monthly_anom_glob.mean(dim=('member'))"
   ]
  },
  {
   "cell_type": "markdown",
   "metadata": {},
   "source": [
    "## Calculate NINO3.4 index"
   ]
  },
  {
   "cell_type": "code",
   "execution_count": null,
   "metadata": {},
   "outputs": [],
   "source": [
    "# calculate the nino3.4 index for 20CR ensemble mean for every month divided by std\n",
    "R_nino34 = func.nino34(R_em_mon_Glob.tmp, '1850-01', '1879-12', 1)"
   ]
  },
  {
   "cell_type": "code",
   "execution_count": null,
   "metadata": {},
   "outputs": [],
   "source": [
    "# calculate the nino3.4 index for multi-model mean for every month divided by std\n",
    "Mmm_nino34 = func.nino34(mmm, '1850-01', '1879-12', 1)"
   ]
  },
  {
   "cell_type": "code",
   "execution_count": null,
   "metadata": {
    "scrolled": true
   },
   "outputs": [],
   "source": [
    "# calculate the nino3.4 index for all models for every month divided by std\n",
    "M_nino34 = func.nino34(models_w, '1850-01', '1879-12', 1)"
   ]
  },
  {
   "cell_type": "code",
   "execution_count": null,
   "metadata": {},
   "outputs": [],
   "source": [
    "# save global anomalies into a netcdf\n",
    "file_path = f'{path}/Masters_paper/NINO3.4_index/'\n",
    "# if they have already been saved as a netcdf, then nothing happens here\n",
    "with dask.diagnostics.ProgressBar():\n",
    "    if not os.path.exists(f'{file_path}Mmm_nino34.nc'):\n",
    "        Mmm_nino34.to_netcdf(f'{file_path}Mmm_nino34.nc')\n",
    "    if not os.path.exists(f'{file_path}M_nino34.nc'):\n",
    "        M_nino34.to_netcdf(f'{file_path}M_nino34.nc')\n",
    "    if not os.path.exists(f'{file_path}R_nino34.nc'):\n",
    "        R_nino34.to_netcdf(f'{file_path}R_nino34.nc')\n",
    "        print('nino34 files saved')"
   ]
  },
  {
   "cell_type": "code",
   "execution_count": null,
   "metadata": {},
   "outputs": [],
   "source": [
    "# open the newly saved anomalies\n",
    "Mmm_nino34 = xr.open_dataset(f'{file_path}Mmm_nino34.nc')\n",
    "M_nino34 = xr.open_dataset(f'{file_path}M_nino34.nc')\n",
    "R_nino34 = xr.open_dataset(f'{file_path}R_nino34.nc')"
   ]
  },
  {
   "cell_type": "markdown",
   "metadata": {},
   "source": [
    "### Threshold"
   ]
  },
  {
   "cell_type": "code",
   "execution_count": null,
   "metadata": {},
   "outputs": [],
   "source": [
    "# set the threshold for el nino/la nina events\n",
    "THOLD = 0.4"
   ]
  },
  {
   "cell_type": "markdown",
   "metadata": {},
   "source": [
    "# Graphs"
   ]
  },
  {
   "cell_type": "code",
   "execution_count": null,
   "metadata": {},
   "outputs": [],
   "source": [
    "# set the default font size\n",
    "SMALL_SIZE = 10\n",
    "MEDIUM_SIZE = 12\n",
    "BIGGER_SIZE = 14\n",
    "\n",
    "plt.rc('font', size=BIGGER_SIZE)          # controls default text sizes\n",
    "plt.rc('axes', titlesize=BIGGER_SIZE)     # fontsize of the axes title\n",
    "plt.rc('axes', labelsize=MEDIUM_SIZE)    # fontsize of the x and y labels\n",
    "plt.rc('xtick', labelsize=MEDIUM_SIZE)    # fontsize of the tick labels\n",
    "plt.rc('ytick', labelsize=MEDIUM_SIZE)    # fontsize of the tick labels\n",
    "plt.rc('legend', fontsize=SMALL_SIZE)    # legend fontsize\n",
    "plt.rc('figure', titlesize=BIGGER_SIZE)  # fontsize of the figure title"
   ]
  },
  {
   "cell_type": "code",
   "execution_count": null,
   "metadata": {},
   "outputs": [],
   "source": [
    "# define degree sign\n",
    "deg = u'\\N{DEGREE SIGN}'"
   ]
  },
  {
   "cell_type": "code",
   "execution_count": null,
   "metadata": {},
   "outputs": [],
   "source": [
    "# eruption date\n",
    "e_date = pd.to_datetime(['1883-08','1902-10', '1963-03', '1982-04', '1991-06'])"
   ]
  },
  {
   "cell_type": "code",
   "execution_count": null,
   "metadata": {
    "scrolled": false
   },
   "outputs": [],
   "source": [
    "# plot time series of nino3.4 index for CMIP6 and 20CR data\n",
    "fig, axes = plt.subplots(2, 1, sharex=True, sharey=True, figsize=(10,8))\n",
    "\n",
    "with dask.diagnostics.ProgressBar():\n",
    "    func.nino34_plot(R_nino34.tmp.sel(time=slice('1880-01','1889-12')), e_date, THOLD, ax = axes[0])\n",
    "    func.nino34_plot(Mmm_nino34.ts.sel(time=slice('1880-01','1889-12')), e_date, THOLD, ax = axes[1])\n",
    "    for m, model in enumerate(M_nino34.model):\n",
    "        M_nino34.ts.sel(model=model).sel(time=slice('1880-01','1889-12')).plot(ax = axes[1], color='gray', \n",
    "                alpha = 0.2)\n",
    "\n",
    "# set the axis labels and title\n",
    "axes[0].set(ylabel= f'SST anomaly [{deg}C]', title = '20CRv3') \n",
    "axes[1].set(ylabel= f'SST anomaly [{deg}C]', title = 'CMIP6', xlabel=None)\n",
    "\n",
    "plt.savefig(f'{fig_path}/RM_nino34_index_all_mods_1880-1890.pdf', dpi=300, bbox_inches='tight')"
   ]
  },
  {
   "cell_type": "code",
   "execution_count": null,
   "metadata": {},
   "outputs": [],
   "source": []
  }
 ],
 "metadata": {
  "kernelspec": {
   "display_name": "Python 3 (ipykernel)",
   "language": "python",
   "name": "python3"
  },
  "language_info": {
   "codemirror_mode": {
    "name": "ipython",
    "version": 3
   },
   "file_extension": ".py",
   "mimetype": "text/x-python",
   "name": "python",
   "nbconvert_exporter": "python",
   "pygments_lexer": "ipython3",
   "version": "3.9.15"
  }
 },
 "nbformat": 4,
 "nbformat_minor": 4
}
